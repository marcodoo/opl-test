{
 "cells": [
  {
   "cell_type": "code",
   "execution_count": 1,
   "metadata": {
    "id": "54a9de420efe49079259a8e13769f0db",
    "tags": []
   },
   "outputs": [
    {
     "name": "stdout",
     "output_type": "stream",
     "text": [
      "\u001b[33mWARNING: The directory '/home/wsuser/.cache/pip' or its parent directory is not owned or is not writable by the current user. The cache has been disabled. Check the permissions and owner of that directory. If executing pip with sudo, you should use sudo's -H flag.\u001b[0m\u001b[33m\n",
      "\u001b[0mRequirement already satisfied: wget in /opt/conda/envs/Python-3.9/lib/python3.9/site-packages (3.2)\n",
      "\u001b[33mWARNING: The directory '/home/wsuser/.cache/pip' or its parent directory is not owned or is not writable by the current user. The cache has been disabled. Check the permissions and owner of that directory. If executing pip with sudo, you should use sudo's -H flag.\u001b[0m\u001b[33m\n",
      "\u001b[0mRequirement already satisfied: tensorflow_datasets in /opt/conda/envs/Python-3.9/lib/python3.9/site-packages (4.5.2)\n",
      "Requirement already satisfied: tensorflow-metadata in /opt/conda/envs/Python-3.9/lib/python3.9/site-packages (from tensorflow_datasets) (1.5.0)\n",
      "Requirement already satisfied: dill in /opt/conda/envs/Python-3.9/lib/python3.9/site-packages (from tensorflow_datasets) (0.3.4)\n",
      "Requirement already satisfied: protobuf>=3.12.2 in /opt/conda/envs/Python-3.9/lib/python3.9/site-packages (from tensorflow_datasets) (3.14.0)\n",
      "Requirement already satisfied: termcolor in /opt/conda/envs/Python-3.9/lib/python3.9/site-packages (from tensorflow_datasets) (1.1.0)\n",
      "Requirement already satisfied: absl-py in /opt/conda/envs/Python-3.9/lib/python3.9/site-packages (from tensorflow_datasets) (0.12.0)\n",
      "Requirement already satisfied: tqdm in /opt/conda/envs/Python-3.9/lib/python3.9/site-packages (from tensorflow_datasets) (4.62.3)\n",
      "Requirement already satisfied: promise in /opt/conda/envs/Python-3.9/lib/python3.9/site-packages (from tensorflow_datasets) (2.3)\n",
      "Requirement already satisfied: numpy in /opt/conda/envs/Python-3.9/lib/python3.9/site-packages (from tensorflow_datasets) (1.20.3)\n",
      "Requirement already satisfied: six in /opt/conda/envs/Python-3.9/lib/python3.9/site-packages (from tensorflow_datasets) (1.15.0)\n",
      "Requirement already satisfied: requests>=2.19.0 in /opt/conda/envs/Python-3.9/lib/python3.9/site-packages (from tensorflow_datasets) (2.26.0)\n",
      "Requirement already satisfied: certifi>=2017.4.17 in /opt/conda/envs/Python-3.9/lib/python3.9/site-packages (from requests>=2.19.0->tensorflow_datasets) (2021.10.8)\n",
      "Requirement already satisfied: charset-normalizer~=2.0.0 in /opt/conda/envs/Python-3.9/lib/python3.9/site-packages (from requests>=2.19.0->tensorflow_datasets) (2.0.4)\n",
      "Requirement already satisfied: urllib3<1.27,>=1.21.1 in /opt/conda/envs/Python-3.9/lib/python3.9/site-packages (from requests>=2.19.0->tensorflow_datasets) (1.26.7)\n",
      "Requirement already satisfied: idna<4,>=2.5 in /opt/conda/envs/Python-3.9/lib/python3.9/site-packages (from requests>=2.19.0->tensorflow_datasets) (3.3)\n",
      "Requirement already satisfied: googleapis-common-protos<2,>=1.52.0 in /opt/conda/envs/Python-3.9/lib/python3.9/site-packages (from tensorflow-metadata->tensorflow_datasets) (1.52.0)\n"
     ]
    }
   ],
   "source": [
    "!pip install wget\n",
    "!pip install tensorflow_datasets"
   ]
  },
  {
   "cell_type": "code",
   "execution_count": 3,
   "metadata": {
    "id": "a67f925c-4e09-4158-9133-21d150271bd8",
    "tags": []
   },
   "outputs": [
    {
     "name": "stderr",
     "output_type": "stream",
     "text": [
      "Matplotlib created a temporary config/cache directory at /tmp/1000650000/matplotlib-ha9l8rxl because the default path (/home/wsuser/.config/matplotlib) is not a writable directory; it is highly recommended to set the MPLCONFIGDIR environment variable to a writable directory, in particular to speed up the import of Matplotlib and to better support multiprocessing.\n"
     ]
    }
   ],
   "source": [
    "# Import required libraries and modules\n",
    "import base64\n",
    "import json\n",
    "import os\n",
    "import platform\n",
    "import requests\n",
    "import tarfile\n",
    "import zipfile\n",
    "import jmespath\n",
    "import subprocess\n",
    "import wget\n",
    "import numpy as np\n",
    "import matplotlib.pyplot as plt\n",
    "\n",
    "import tensorflow as tf\n",
    "import tensorflow_datasets as tfds\n",
    "\n",
    "\n",
    "from IPython.core.display import display, HTML"
   ]
  },
  {
   "cell_type": "code",
   "execution_count": null,
   "metadata": {
    "id": "80cf2dd1a8ff4e73a80118b0c6209996"
   },
   "outputs": [],
   "source": []
  },
  {
   "cell_type": "code",
   "execution_count": 4,
   "metadata": {
    "id": "02247a2d57a74a14877898ea71c0a840",
    "tags": []
   },
   "outputs": [],
   "source": [
    "(ds_train, ds_test), ds_info = tfds.load(\n",
    "    'mnist',\n",
    "    split=['train', 'test'],\n",
    "    shuffle_files=True,\n",
    "    as_supervised=True,\n",
    "    with_info=True,\n",
    "    data_dir=\"../data_asset\"\n",
    ")"
   ]
  },
  {
   "cell_type": "code",
   "execution_count": 5,
   "metadata": {
    "id": "61a50fb413b44396bf2b828d3a594424",
    "tags": []
   },
   "outputs": [],
   "source": [
    "def normalize_img(image, label):\n",
    "  \"\"\"Normalizes images: `uint8` -> `float32`.\"\"\"\n",
    "  return tf.cast(image, tf.float32) / 255., label\n",
    "\n",
    "ds_train = ds_train.map(\n",
    "    normalize_img, num_parallel_calls=tf.data.AUTOTUNE)\n",
    "ds_train = ds_train.cache()\n",
    "ds_train = ds_train.shuffle(ds_info.splits['train'].num_examples)\n",
    "ds_train = ds_train.batch(128)\n",
    "ds_train = ds_train.prefetch(tf.data.AUTOTUNE)"
   ]
  },
  {
   "cell_type": "code",
   "execution_count": 6,
   "metadata": {
    "id": "25c6da45ee234c678175892ff368cd7a",
    "tags": []
   },
   "outputs": [],
   "source": [
    "ds_test = ds_test.map(\n",
    "    normalize_img, num_parallel_calls=tf.data.AUTOTUNE)\n",
    "ds_test = ds_test.batch(128)\n",
    "ds_test = ds_test.cache()\n",
    "ds_test = ds_test.prefetch(tf.data.AUTOTUNE)"
   ]
  },
  {
   "cell_type": "code",
   "execution_count": 27,
   "metadata": {
    "id": "cd10e95736784e978ce3756dc72dfe31",
    "tags": []
   },
   "outputs": [
    {
     "name": "stdout",
     "output_type": "stream",
     "text": [
      "Epoch 1/6\n",
      "469/469 [==============================] - 4s 8ms/step - loss: 0.6556 - sparse_categorical_accuracy: 0.8607 - val_loss: 0.4724 - val_sparse_categorical_accuracy: 0.8904\n",
      "Epoch 2/6\n",
      "469/469 [==============================] - 4s 8ms/step - loss: 0.4873 - sparse_categorical_accuracy: 0.8872 - val_loss: 0.4490 - val_sparse_categorical_accuracy: 0.9023\n",
      "Epoch 3/6\n",
      "469/469 [==============================] - 4s 8ms/step - loss: 0.4927 - sparse_categorical_accuracy: 0.8882 - val_loss: 0.6349 - val_sparse_categorical_accuracy: 0.8859\n",
      "Epoch 4/6\n",
      "469/469 [==============================] - 4s 8ms/step - loss: 0.5240 - sparse_categorical_accuracy: 0.8801 - val_loss: 0.5546 - val_sparse_categorical_accuracy: 0.8816\n",
      "Epoch 5/6\n",
      "469/469 [==============================] - 4s 8ms/step - loss: 0.5581 - sparse_categorical_accuracy: 0.8736 - val_loss: 0.6295 - val_sparse_categorical_accuracy: 0.8653\n",
      "Epoch 6/6\n",
      "469/469 [==============================] - 4s 8ms/step - loss: 0.5939 - sparse_categorical_accuracy: 0.8616 - val_loss: 0.6211 - val_sparse_categorical_accuracy: 0.8704\n"
     ]
    }
   ],
   "source": [
    "model = tf.keras.models.Sequential([\n",
    "  tf.keras.layers.Flatten(input_shape=(28, 28)),\n",
    "  tf.keras.layers.Dense(128, activation='relu'),\n",
    "  tf.keras.layers.Dense(10)\n",
    "])\n",
    "\n",
    "model.compile(\n",
    "    optimizer=tf.keras.optimizers.Adam(0.1),\n",
    "    loss=tf.keras.losses.SparseCategoricalCrossentropy(from_logits=True),\n",
    "    metrics=[tf.keras.metrics.SparseCategoricalAccuracy()],\n",
    ")\n",
    "\n",
    "model.fit(\n",
    "    ds_train,\n",
    "    epochs=6,\n",
    "    validation_data=ds_test,\n",
    ")\n",
    "\n",
    "model.add(tf.keras.layers.Lambda(lambda x: tf.keras.backend.cast(tf.keras.backend.argmax(x), dtype='int32'), name='classes'))"
   ]
  },
  {
   "cell_type": "code",
   "execution_count": 8,
   "metadata": {
    "id": "33de0bfe310446878fb2550da8a98b18",
    "tags": []
   },
   "outputs": [
    {
     "data": {
      "text/plain": [
       "array([2, 0, 4, ..., 8, 0, 5], dtype=int32)"
      ]
     },
     "execution_count": 8,
     "metadata": {},
     "output_type": "execute_result"
    }
   ],
   "source": [
    "model.predict(ds_test)"
   ]
  },
  {
   "cell_type": "code",
   "execution_count": 9,
   "metadata": {
    "id": "ac50e9508aa84ede82b994beaf2eb408",
    "tags": []
   },
   "outputs": [
    {
     "name": "stderr",
     "output_type": "stream",
     "text": [
      "2022-04-21 13:10:58.930370: W tensorflow/python/util/util.cc:368] Sets are not currently considered sequences, but this may change in the future, so consider avoiding using them.\n"
     ]
    },
    {
     "name": "stdout",
     "output_type": "stream",
     "text": [
      "INFO:tensorflow:Assets written to: mnist-dl-model.tar.gz/assets\n"
     ]
    },
    {
     "name": "stderr",
     "output_type": "stream",
     "text": [
      "INFO:tensorflow:Assets written to: mnist-dl-model.tar.gz/assets\n"
     ]
    }
   ],
   "source": [
    "model_name='mnist-dl-model.tar.gz'\n",
    "tf.saved_model.save(model, model_name)"
   ]
  },
  {
   "cell_type": "code",
   "execution_count": 10,
   "metadata": {
    "id": "b3e220ee6e2148bd8262ecafd54be132",
    "tags": []
   },
   "outputs": [
    {
     "name": "stdout",
     "output_type": "stream",
     "text": [
      "'MLOps Workshop.ipynb'\t mnist-dl-model.tar.gz.tar.gz\n",
      " mnist-dl-model.tar.gz\t mnist-html-canvas-image-data.json\n"
     ]
    }
   ],
   "source": [
    "!ls\n"
   ]
  },
  {
   "cell_type": "code",
   "execution_count": 11,
   "metadata": {
    "id": "61c2793abf6b4235affa4c1514d1184e",
    "tags": []
   },
   "outputs": [],
   "source": [
    "cpdtoken=os.environ['USER_ACCESS_TOKEN']\n",
    "\n",
    "wml_credentials = {\n",
    "    \"token\": cpdtoken,\n",
    "    \"instance_id\" : \"openshift\",\n",
    "    \"url\": os.environ['RUNTIME_ENV_APSX_URL'],\n",
    "    \"version\": \"4.0\"\n",
    "}"
   ]
  },
  {
   "cell_type": "code",
   "execution_count": 12,
   "metadata": {
    "id": "666cdcab44e44e268523d7a30a6de4ab",
    "tags": []
   },
   "outputs": [],
   "source": [
    "from ibm_watson_machine_learning import APIClient\n",
    "client = APIClient(wml_credentials)"
   ]
  },
  {
   "cell_type": "code",
   "execution_count": 13,
   "metadata": {
    "id": "f31622c42e574053b0361be54d003880",
    "tags": []
   },
   "outputs": [
    {
     "name": "stdout",
     "output_type": "stream",
     "text": [
      "------------------------------------  ----  ------------------------\n",
      "ID                                    NAME  CREATED\n",
      "eca14e28-329a-4dee-bd00-15579d43c458  test  2022-04-21T08:27:41.680Z\n",
      "8c4d0b78-c9b7-42e1-bca2-89fe8be611a9  yest  2022-04-20T13:03:40.914Z\n",
      "------------------------------------  ----  ------------------------\n"
     ]
    }
   ],
   "source": [
    "# List deployment spaces\n",
    "\n",
    "client.spaces.list(limit=10)"
   ]
  },
  {
   "cell_type": "code",
   "execution_count": 14,
   "metadata": {
    "id": "256aa2da73e146838efc0abdd5d7f316",
    "tags": []
   },
   "outputs": [],
   "source": [
    "space_id = 'eca14e28-329a-4dee-bd00-15579d43c458'\n",
    "\n",
    "# Codice opzionale per creare il deployment space da codice"
   ]
  },
  {
   "cell_type": "code",
   "execution_count": 15,
   "metadata": {
    "id": "010a5e18dd204d8c88a51476e559df4d",
    "tags": []
   },
   "outputs": [
    {
     "data": {
      "text/plain": [
       "'SUCCESS'"
      ]
     },
     "execution_count": 15,
     "metadata": {},
     "output_type": "execute_result"
    }
   ],
   "source": [
    "client.set.default_space(space_id)"
   ]
  },
  {
   "cell_type": "code",
   "execution_count": 16,
   "metadata": {
    "id": "ae24f6082be74d0685ff1ec9843016ca",
    "tags": []
   },
   "outputs": [],
   "source": [
    "sofware_spec_uid = client.software_specifications.get_id_by_name(\"tensorflow_rt22.1-py3.9\")\n",
    "\n",
    "\n",
    "metadata = {\n",
    "            client.repository.ModelMetaNames.NAME: 'MNIST Tensorflow Model',\n",
    "            client.repository.ModelMetaNames.TYPE: 'tensorflow_2.7',\n",
    "            client.repository.ModelMetaNames.TAGS: ['v1','OCR'],\n",
    "            client.repository.ModelMetaNames.SOFTWARE_SPEC_UID: sofware_spec_uid\n",
    "}\n",
    "\n",
    "model_details = client.repository.store_model(\n",
    "    model=model_name,\n",
    "    meta_props=metadata\n",
    ")"
   ]
  },
  {
   "cell_type": "code",
   "execution_count": null,
   "metadata": {
    "id": "60949d6820534c048157d5efa701f0cf"
   },
   "outputs": [],
   "source": []
  },
  {
   "cell_type": "code",
   "execution_count": 17,
   "metadata": {
    "id": "d91c8ca10844400c9393a9adecd64cb5",
    "tags": []
   },
   "outputs": [
    {
     "data": {
      "text/plain": [
       "{'models': {'resources': [{'entity': {'hybrid_pipeline_software_specs': [],\n",
       "     'software_spec': {'id': 'fe185c44-9a99-5425-986b-59bd1d2eda46',\n",
       "      'name': 'tensorflow_2.4-py3.8'},\n",
       "     'type': 'tensorflow_2.4'},\n",
       "    'metadata': {'created_at': '2022-04-21T08:28:22.002Z',\n",
       "     'id': 'e7393538-3cb0-4c6d-ab6a-6801afc8d4d5',\n",
       "     'modified_at': '2022-04-21T08:28:24.334Z',\n",
       "     'name': 'MNIST model',\n",
       "     'owner': '1000330999',\n",
       "     'resource_key': 'f87f5821-05ab-4331-8685-bc58cf085fed',\n",
       "     'space_id': 'eca14e28-329a-4dee-bd00-15579d43c458',\n",
       "     'tags': ['v1']},\n",
       "    'system': {'warnings': [{'message': 'Software specification tensorflow_2.4-py3.8 specified for the wml_model is deprecated and will be removed in the future. We recommend you use tensorflow_rt22.1-py3.9 instead. For details see Supported Frameworks https://www.ibm.com/docs/en/cloud-paks/cp-data/4.0?topic=specifications-supported-deployment-frameworks'}]}},\n",
       "   {'entity': {'hybrid_pipeline_software_specs': [],\n",
       "     'software_spec': {'id': 'acd9c798-6974-5d2f-a657-ce06e986df4d',\n",
       "      'name': 'tensorflow_rt22.1-py3.9'},\n",
       "     'type': 'tensorflow_2.4'},\n",
       "    'metadata': {'created_at': '2022-04-21T08:28:53.002Z',\n",
       "     'id': 'e2abb20d-d566-4ef5-b544-f3b8888110f6',\n",
       "     'modified_at': '2022-04-21T08:28:56.333Z',\n",
       "     'name': 'MNIST model',\n",
       "     'owner': '1000330999',\n",
       "     'resource_key': '4c22bf0c-6b11-435e-989c-fd1ef5ad8183',\n",
       "     'space_id': 'eca14e28-329a-4dee-bd00-15579d43c458',\n",
       "     'tags': ['v1']},\n",
       "    'system': {'warnings': []}},\n",
       "   {'entity': {'hybrid_pipeline_software_specs': [],\n",
       "     'software_spec': {'id': 'acd9c798-6974-5d2f-a657-ce06e986df4d',\n",
       "      'name': 'tensorflow_rt22.1-py3.9'},\n",
       "     'type': 'tensorflow_2.4'},\n",
       "    'metadata': {'created_at': '2022-04-21T08:30:49.002Z',\n",
       "     'id': 'a67bc2a1-e665-44e8-af2a-34a08b8e706d',\n",
       "     'modified_at': '2022-04-21T08:30:52.746Z',\n",
       "     'name': 'MNIST model',\n",
       "     'owner': '1000330999',\n",
       "     'resource_key': '76818c03-79ea-42e9-b9ee-b7c5a7e88af4',\n",
       "     'space_id': 'eca14e28-329a-4dee-bd00-15579d43c458',\n",
       "     'tags': ['v1']},\n",
       "    'system': {'warnings': []}},\n",
       "   {'entity': {'hybrid_pipeline_software_specs': [],\n",
       "     'software_spec': {'id': 'acd9c798-6974-5d2f-a657-ce06e986df4d',\n",
       "      'name': 'tensorflow_rt22.1-py3.9'},\n",
       "     'type': 'tensorflow_2.7'},\n",
       "    'metadata': {'created_at': '2022-04-21T08:37:07.002Z',\n",
       "     'id': '530c6365-6153-4b1e-936d-42aa1a498c1f',\n",
       "     'modified_at': '2022-04-21T08:37:09.508Z',\n",
       "     'name': 'MNIST model',\n",
       "     'owner': '1000330999',\n",
       "     'resource_key': '527ebdfa-9dd3-4492-b093-198e8ee41b0f',\n",
       "     'space_id': 'eca14e28-329a-4dee-bd00-15579d43c458',\n",
       "     'tags': ['v1', 'OCR']},\n",
       "    'system': {'warnings': []}},\n",
       "   {'entity': {'hybrid_pipeline_software_specs': [],\n",
       "     'software_spec': {'id': '12b83a17-24d8-5082-900f-0ab31fbfd3cb',\n",
       "      'name': 'runtime-22.1-py3.9'},\n",
       "     'type': 'scikit-learn_1.0'},\n",
       "    'metadata': {'created_at': '2022-04-21T09:52:44.002Z',\n",
       "     'id': 'a9cf973a-8c50-4e95-b98e-7417c6c0dfc7',\n",
       "     'modified_at': '2022-04-21T09:52:45.382Z',\n",
       "     'name': 'MNIST model trained',\n",
       "     'owner': '1000330999',\n",
       "     'resource_key': 'c8ad4d6a-8669-4558-9429-7d4580acbc4f',\n",
       "     'space_id': 'eca14e28-329a-4dee-bd00-15579d43c458',\n",
       "     'tags': ['v1', 'OCR']},\n",
       "    'system': {'warnings': []}},\n",
       "   {'entity': {'hybrid_pipeline_software_specs': [],\n",
       "     'software_spec': {'id': 'acd9c798-6974-5d2f-a657-ce06e986df4d',\n",
       "      'name': 'tensorflow_rt22.1-py3.9'},\n",
       "     'type': 'tensorflow_2.7'},\n",
       "    'metadata': {'created_at': '2022-04-21T10:15:36.002Z',\n",
       "     'id': '3f094b4d-a46e-433a-8690-bfded36ec4fe',\n",
       "     'modified_at': '2022-04-21T10:15:37.085Z',\n",
       "     'name': 'MNIST model trained tensorflow',\n",
       "     'owner': '1000330999',\n",
       "     'resource_key': '2787d708-26d6-4942-a6bb-ea8e4694954f',\n",
       "     'space_id': 'eca14e28-329a-4dee-bd00-15579d43c458',\n",
       "     'tags': ['v1', 'OCR']},\n",
       "    'system': {'warnings': []}},\n",
       "   {'entity': {'hybrid_pipeline_software_specs': [],\n",
       "     'software_spec': {'id': 'acd9c798-6974-5d2f-a657-ce06e986df4d',\n",
       "      'name': 'tensorflow_rt22.1-py3.9'},\n",
       "     'type': 'tensorflow_2.4'},\n",
       "    'metadata': {'created_at': '2022-04-21T08:31:13.002Z',\n",
       "     'id': 'e2e5fde3-8b94-4b86-91ac-7106ded24d09',\n",
       "     'modified_at': '2022-04-21T08:31:16.747Z',\n",
       "     'name': 'MNIST model',\n",
       "     'owner': '1000330999',\n",
       "     'resource_key': 'e9ed521c-9f55-4b6a-b0be-f0bf78ee82b3',\n",
       "     'space_id': 'eca14e28-329a-4dee-bd00-15579d43c458',\n",
       "     'tags': ['v1', 'OCR']},\n",
       "    'system': {'warnings': []}},\n",
       "   {'entity': {'hybrid_pipeline_software_specs': [],\n",
       "     'software_spec': {'id': 'acd9c798-6974-5d2f-a657-ce06e986df4d',\n",
       "      'name': 'tensorflow_rt22.1-py3.9'},\n",
       "     'type': 'tensorflow_2.7'},\n",
       "    'metadata': {'created_at': '2022-04-21T11:05:58.002Z',\n",
       "     'id': '69b6cfb3-bfad-4fa9-888b-c67f914c5dab',\n",
       "     'modified_at': '2022-04-21T11:05:58.985Z',\n",
       "     'name': 'MNIST model trained tensorflow',\n",
       "     'owner': '1000330999',\n",
       "     'resource_key': 'c39e3db6-fe80-4d87-b092-be999d0729d8',\n",
       "     'space_id': 'eca14e28-329a-4dee-bd00-15579d43c458',\n",
       "     'tags': ['v1', 'OCR']},\n",
       "    'system': {'warnings': []}},\n",
       "   {'entity': {'hybrid_pipeline_software_specs': [],\n",
       "     'software_spec': {'id': 'acd9c798-6974-5d2f-a657-ce06e986df4d',\n",
       "      'name': 'tensorflow_rt22.1-py3.9'},\n",
       "     'type': 'tensorflow_2.7'},\n",
       "    'metadata': {'created_at': '2022-04-21T11:37:17.002Z',\n",
       "     'id': 'b7fdec3d-c36f-41b1-a2fd-a7262b02e3c9',\n",
       "     'modified_at': '2022-04-21T11:37:18.405Z',\n",
       "     'name': 'LABMDA model trained tensorflow',\n",
       "     'owner': '1000330999',\n",
       "     'resource_key': 'c7395696-c458-48db-b11a-7979a1fca6d4',\n",
       "     'space_id': 'eca14e28-329a-4dee-bd00-15579d43c458',\n",
       "     'tags': ['v1', 'OCR']},\n",
       "    'system': {'warnings': []}},\n",
       "   {'entity': {'hybrid_pipeline_software_specs': [],\n",
       "     'software_spec': {'id': 'acd9c798-6974-5d2f-a657-ce06e986df4d',\n",
       "      'name': 'tensorflow_rt22.1-py3.9'},\n",
       "     'type': 'tensorflow_2.7'},\n",
       "    'metadata': {'created_at': '2022-04-21T11:53:03.002Z',\n",
       "     'id': 'b88ef1ed-87c1-4ca6-87a0-a5ee9a50af7c',\n",
       "     'modified_at': '2022-04-21T11:53:04.660Z',\n",
       "     'name': 'MNIST Tensorflow Model',\n",
       "     'owner': '1000330999',\n",
       "     'resource_key': '6114bad4-4b1a-4c73-bc8a-ae7b0da8979f',\n",
       "     'space_id': 'eca14e28-329a-4dee-bd00-15579d43c458',\n",
       "     'tags': ['v1', 'OCR']},\n",
       "    'system': {'warnings': []}},\n",
       "   {'entity': {'hybrid_pipeline_software_specs': [],\n",
       "     'software_spec': {'id': 'acd9c798-6974-5d2f-a657-ce06e986df4d',\n",
       "      'name': 'tensorflow_rt22.1-py3.9'},\n",
       "     'type': 'tensorflow_2.7'},\n",
       "    'metadata': {'created_at': '2022-04-21T12:39:43.002Z',\n",
       "     'id': '60c63316-00e0-4e66-b417-f9d81d0391a9',\n",
       "     'modified_at': '2022-04-21T12:39:45.395Z',\n",
       "     'name': 'MNIST Tensorflow Model',\n",
       "     'owner': '1000330999',\n",
       "     'resource_key': '903d38d0-13ac-4675-8c35-fa613115d562',\n",
       "     'space_id': 'eca14e28-329a-4dee-bd00-15579d43c458',\n",
       "     'tags': ['v1', 'OCR']},\n",
       "    'system': {'warnings': []}},\n",
       "   {'entity': {'hybrid_pipeline_software_specs': [],\n",
       "     'software_spec': {'id': 'acd9c798-6974-5d2f-a657-ce06e986df4d',\n",
       "      'name': 'tensorflow_rt22.1-py3.9'},\n",
       "     'type': 'tensorflow_2.7'},\n",
       "    'metadata': {'created_at': '2022-04-21T13:08:47.002Z',\n",
       "     'id': 'f3ec3b2b-4dc3-43d8-abb5-c0b2c3c8875e',\n",
       "     'modified_at': '2022-04-21T13:08:48.560Z',\n",
       "     'name': 'MNIST Tensorflow Model',\n",
       "     'owner': '1000330999',\n",
       "     'resource_key': 'fdf08741-d9f2-4311-951d-cd5f3f73bddb',\n",
       "     'space_id': 'eca14e28-329a-4dee-bd00-15579d43c458',\n",
       "     'tags': ['v1', 'OCR']},\n",
       "    'system': {'warnings': []}},\n",
       "   {'entity': {'hybrid_pipeline_software_specs': [],\n",
       "     'software_spec': {'id': 'acd9c798-6974-5d2f-a657-ce06e986df4d',\n",
       "      'name': 'tensorflow_rt22.1-py3.9'},\n",
       "     'type': 'tensorflow_2.7'},\n",
       "    'metadata': {'created_at': '2022-04-21T13:11:01.002Z',\n",
       "     'id': '51e91c3c-cf1b-4e7a-b97b-44489efde51a',\n",
       "     'modified_at': '2022-04-21T13:11:03.106Z',\n",
       "     'name': 'MNIST Tensorflow Model',\n",
       "     'owner': '1000330999',\n",
       "     'resource_key': '949f9de9-a471-462e-8357-f43a5a8ab893',\n",
       "     'space_id': 'eca14e28-329a-4dee-bd00-15579d43c458',\n",
       "     'tags': ['v1', 'OCR']},\n",
       "    'system': {'warnings': []}}]},\n",
       " 'experiments': {'resources': []},\n",
       " 'pipeline': {'resources': []},\n",
       " 'functions': {'resources': [{'entity': {'software_spec': {'id': '12b83a17-24d8-5082-900f-0ab31fbfd3cb',\n",
       "      'name': 'runtime-22.1-py3.9'},\n",
       "     'type': 'python'},\n",
       "    'metadata': {'created_at': '2022-04-21T12:44:00.002Z',\n",
       "     'id': '117efaef-10f3-49df-86a0-f9d7e9009ea4',\n",
       "     'modified_at': '2022-04-21T12:44:01.385Z',\n",
       "     'name': 'MNIST deployable function',\n",
       "     'owner': '1000330999',\n",
       "     'space_id': 'eca14e28-329a-4dee-bd00-15579d43c458'},\n",
       "    'system': {'warnings': []}},\n",
       "   {'entity': {'software_spec': {'id': '12b83a17-24d8-5082-900f-0ab31fbfd3cb',\n",
       "      'name': 'runtime-22.1-py3.9'},\n",
       "     'type': 'python'},\n",
       "    'metadata': {'created_at': '2022-04-21T12:49:36.002Z',\n",
       "     'id': 'a70c21bf-f94e-4b9c-bcc1-dfd21866fcdd',\n",
       "     'modified_at': '2022-04-21T12:49:37.320Z',\n",
       "     'name': 'MNIST deployable function',\n",
       "     'owner': '1000330999',\n",
       "     'space_id': 'eca14e28-329a-4dee-bd00-15579d43c458'},\n",
       "    'system': {'warnings': []}}]}}"
      ]
     },
     "execution_count": 17,
     "metadata": {},
     "output_type": "execute_result"
    }
   ],
   "source": [
    "client.repository.get_details()"
   ]
  },
  {
   "cell_type": "code",
   "execution_count": 18,
   "metadata": {
    "id": "ef8624cefd3f4138aba25cedc5dadafd",
    "tags": []
   },
   "outputs": [
    {
     "data": {
      "text/plain": [
       "'51e91c3c-cf1b-4e7a-b97b-44489efde51a'"
      ]
     },
     "execution_count": 18,
     "metadata": {},
     "output_type": "execute_result"
    }
   ],
   "source": [
    "# Get published model ID\n",
    "\n",
    "published_model_uid = client.repository.get_model_id(model_details)\n",
    "published_model_uid"
   ]
  },
  {
   "cell_type": "code",
   "execution_count": 19,
   "metadata": {
    "id": "4cb844208d544e6e89c7c3ccf4e8f50f",
    "tags": []
   },
   "outputs": [
    {
     "name": "stdout",
     "output_type": "stream",
     "text": [
      "\n",
      "\n",
      "#######################################################################################\n",
      "\n",
      "Synchronous deployment creation for uid: '51e91c3c-cf1b-4e7a-b97b-44489efde51a' started\n",
      "\n",
      "#######################################################################################\n",
      "\n",
      "\n",
      "initializing\n",
      "Note: online_url is deprecated and will be removed in a future release. Use serving_urls instead.\n",
      ".....\n",
      "ready\n",
      "\n",
      "\n",
      "------------------------------------------------------------------------------------------------\n",
      "Successfully finished deployment creation, deployment_uid='dd7d868e-efe8-418d-9459-7aaa5533dce4'\n",
      "------------------------------------------------------------------------------------------------\n",
      "\n",
      "\n"
     ]
    }
   ],
   "source": [
    "# Deploy the stored model\n",
    "metadata = {\n",
    "    client.deployments.ConfigurationMetaNames.NAME: \"MNIST Tensorflow Deployed Model\",\n",
    "    client.deployments.ConfigurationMetaNames.TAGS: ['v1','OCR'],\n",
    "    client.deployments.ConfigurationMetaNames.ONLINE: {}\n",
    "}\n",
    "\n",
    "model_deployment_details = client.deployments.create(published_model_uid, meta_props=metadata)"
   ]
  },
  {
   "cell_type": "code",
   "execution_count": 20,
   "metadata": {
    "id": "1a64bc95912e4d02ae65d8bccde2a602",
    "tags": []
   },
   "outputs": [
    {
     "data": {
      "text/plain": [
       "'dd7d868e-efe8-418d-9459-7aaa5533dce4'"
      ]
     },
     "execution_count": 20,
     "metadata": {},
     "output_type": "execute_result"
    }
   ],
   "source": [
    "# Get the ID of the model deployment just created\n",
    "\n",
    "model_deployment_id = client.deployments.get_uid(model_deployment_details)\n",
    "model_deployment_id"
   ]
  },
  {
   "cell_type": "code",
   "execution_count": null,
   "metadata": {
    "id": "25b4622d65b647eea2bd9ffdbb6391cb"
   },
   "outputs": [],
   "source": []
  },
  {
   "cell_type": "code",
   "execution_count": 21,
   "metadata": {
    "id": "c70470d01d224b568730406a9dad6039",
    "tags": []
   },
   "outputs": [],
   "source": [
    "# Download the file containing the sample data\n",
    "\n",
    "sample_canvas_data_filename = 'mnist-html-canvas-image-data.json'\n",
    "url = 'https://github.com/IBM/watson-machine-learning-samples/raw/master/cloud/data/mnist/' + sample_canvas_data_filename\n",
    "if not os.path.isfile(sample_canvas_data_filename): wget.download(url)\n",
    "\n",
    "# Load the sample data from the file into a variable\n",
    "\n",
    "with open(sample_canvas_data_filename) as data_file:\n",
    "    sample_cavas_data = json.load(data_file)"
   ]
  },
  {
   "cell_type": "code",
   "execution_count": 22,
   "metadata": {
    "id": "bd2b136198314d1e8c8e9de29298244f",
    "tags": []
   },
   "outputs": [
    {
     "name": "stdout",
     "output_type": "stream",
     "text": [
      "Height (n): 187 pixels\n",
      "\n",
      "Num image data entries: 139876 - (n * n * 4) elements - RGBA values\n",
      "\n"
     ]
    },
    {
     "data": {
      "image/png": "[encoded data removed]",
      "text/plain": [
       "<Figure size 432x288 with 1 Axes>"
      ]
     },
     "metadata": {},
     "output_type": "display_data"
    }
   ],
   "source": [
    "# View the raw contents of the sample data\n",
    "\n",
    "print(\"Height (n): \" + str(sample_cavas_data[\"height\"]) + \" pixels\\n\")\n",
    "print(\"Num image data entries: \" + str(len( sample_cavas_data[\"data\"])) + \" - (n * n * 4) elements - RGBA values\\n\")\n",
    "# print(json.dumps(sample_cavas_data, indent=3)[:75] + \"...\\n\" + json.dumps(sample_cavas_data, indent=3)[-50:])\n",
    "\n",
    "# See what hand-drawn digit the sample data represents\n",
    "\n",
    "rgba_arr = np.asarray(sample_cavas_data[\"data\"]).astype('uint8')\n",
    "n = sample_cavas_data[\"height\"]\n",
    "plt.figure()\n",
    "plt.imshow( rgba_arr.reshape(n, n, 4))\n",
    "plt.xticks([])\n",
    "plt.yticks([])\n",
    "plt.show()"
   ]
  },
  {
   "cell_type": "code",
   "execution_count": 23,
   "metadata": {
    "id": "caba8bf6a4c344ff9e520f960e7e2b38",
    "tags": []
   },
   "outputs": [],
   "source": [
    "# Preprocessing data\n",
    "\n",
    "def getRGBAArr(canvas_data):\n",
    "    import numpy as np\n",
    "    dimension = canvas_data[\"height\"]\n",
    "    rgba_data = canvas_data[\"data\"]\n",
    "    rgba_arr  = np.asarray(rgba_data).astype('uint8')\n",
    "    return rgba_arr.reshape(dimension, dimension, 4)\n",
    "\n",
    "def getNormAlphaList(img):\n",
    "    import numpy as np\n",
    "    alpha_arr       = np.array(img.split()[-1])\n",
    "    norm_alpha_arr  = alpha_arr / 255\n",
    "    # norm_alpha_list = norm_alpha_arr.reshape(1, 784).tolist()\n",
    "    # return norm_alpha_list\n",
    "    return norm_alpha_arr\n",
    "\n",
    "\n",
    "from PIL import Image\n",
    "canvas_data   = sample_cavas_data       # Read the payload received by the function\n",
    "rgba_arr      = getRGBAArr(canvas_data)               # Create an array object with the required shape\n",
    "img           = Image.fromarray(rgba_arr, 'RGBA')     # Create an image object that can be resized\n",
    "sm_img        = img.resize((28, 28), Image.LANCZOS) # Resize the image to 28 x 28 pixels\n",
    "alpha_list    = getNormAlphaList(sm_img)              # Create a 1 x 784 array of values between 0 and 1\n",
    "alpha_list    = alpha_list.reshape((1,28,28))\n",
    "model_payload = {\"input_data\": [{\"values\" : alpha_list}]} "
   ]
  },
  {
   "cell_type": "code",
   "execution_count": 24,
   "metadata": {
    "id": "7c8e390bd4da43b38a6cf5e15e885968",
    "tags": []
   },
   "outputs": [
    {
     "name": "stdout",
     "output_type": "stream",
     "text": [
      "{\"predictions\": [{\"id\": \"classes\", \"values\": [2]}]}\n"
     ]
    }
   ],
   "source": [
    "# Predict via API\n",
    "\n",
    "predictions = client.deployments.score(model_deployment_id, model_payload)\n",
    "print(json.dumps(predictions))"
   ]
  },
  {
   "cell_type": "code",
   "execution_count": 25,
   "metadata": {
    "id": "771e39be29f846ff91817a31fa7a3f61",
    "tags": []
   },
   "outputs": [
    {
     "name": "stdout",
     "output_type": "stream",
     "text": [
      "Scoring response\n",
      "{'predictions': [{'id': 'y_pred', 'values': [4.0]}]}\n"
     ]
    }
   ],
   "source": [
    "# Predict via HTTP request\n",
    "\n",
    "header = {'Content-Type': 'application/json', 'Authorization': 'Bearer ' + cpdtoken}\n",
    "\n",
    "# NOTE: manually define and pass the array(s) of values to be scored in the next line\n",
    "payload_scoring = model_payload\n",
    "\n",
    "response_scoring = requests.post('https://cpd-cpd-instance.itzroks-666000zj44-v4b1yc-4b4a324f027aea19c5cbc0c3275c4656-0000.eu-de.containers.appdomain.cloud/ml/v4/deployments/04efa377-8f19-40b6-b3da-f940a7cde716/predictions?version=2022-04-21', json=payload_scoring, headers=header, verify=False)\n",
    "print(\"Scoring response\")\n",
    "print(json.loads(response_scoring.text))"
   ]
  }
 ],
 "metadata": {
  "kernelspec": {
   "display_name": "Python 3.9",
   "language": "python",
   "name": "python3"
  },
  "language_info": {
   "codemirror_mode": {
    "name": "ipython",
    "version": 3
   },
   "file_extension": ".py",
   "mimetype": "text/x-python",
   "name": "python",
   "nbconvert_exporter": "python",
   "pygments_lexer": "ipython3",
   "version": "3.9.7"
  }
 },
 "nbformat": 4,
 "nbformat_minor": 4
}
